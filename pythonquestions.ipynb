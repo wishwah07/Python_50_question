{
  "cells": [
    {
      "cell_type": "code",
      "execution_count": null,
      "metadata": {
        "colab": {
          "base_uri": "https://localhost:8080/"
        },
        "id": "IJRujwwFfgpj",
        "outputId": "91f96c6c-749e-41a7-f8d8-808d7a3e9b41"
      },
      "outputs": [
        {
          "name": "stdout",
          "output_type": "stream",
          "text": [
            "Enter the first number: 092\n",
            "Enter the second number: 344\n",
            "Before swapping:\n",
            "num1 = 92.0\n",
            "num2 = 344.0\n",
            "After swapping:\n",
            "num1 = 344.0\n",
            "num2 = 92.0\n"
          ]
        }
      ],
      "source": [
        "num1 = float(input(\"Enter the first number: \"))\n",
        "num2 = float(input(\"Enter the second number: \"))\n",
        "print(\"Before swapping:\")\n",
        "print(\"num1 =\", num1)\n",
        "print(\"num2 =\", num2)\n",
        "num1, num2 = num2, num1\n",
        "print(\"After swapping:\")\n",
        "print(\"num1 =\", num1)\n",
        "print(\"num2 =\",num2)"
      ]
    },
    {
      "cell_type": "code",
      "execution_count": null,
      "metadata": {
        "id": "sPViUF6MBvGC"
      },
      "outputs": [],
      "source": []
    },
    {
      "cell_type": "code",
      "execution_count": null,
      "metadata": {
        "colab": {
          "base_uri": "https://localhost:8080/"
        },
        "id": "EIE4Ayfrkk0F",
        "outputId": "56231de1-09f0-4f2f-da62-08e2a453a820"
      },
      "outputs": [
        {
          "name": "stdout",
          "output_type": "stream",
          "text": [
            "2\n"
          ]
        }
      ],
      "source": [
        "a=2\n",
        "print(a)"
      ]
    },
    {
      "cell_type": "code",
      "execution_count": null,
      "metadata": {
        "colab": {
          "base_uri": "https://localhost:8080/"
        },
        "id": "FJ2p-KQ89pYc",
        "outputId": "6fd76c03-713c-4a56-9ddc-91f548e31717"
      },
      "outputs": [
        {
          "name": "stdout",
          "output_type": "stream",
          "text": [
            "enter the first number:44\n",
            "enter the second number33\n",
            "numbers before swapping\n",
            "num1= 44.0\n",
            "num2= 33.0\n",
            "after swapping\n",
            "num1= 33.0\n",
            "num2= 44.0\n"
          ]
        }
      ],
      "source": [
        "num1=float (input(\"enter the first number:\"))\n",
        "num2=float(input(\"enter the second number\"))\n",
        "print(\"numbers before swapping\")\n",
        "print(\"num1=\",num1)\n",
        "print(\"num2=\",num2)\n",
        "num1, num2 = num2, num1\n",
        "print(\"after swapping\")\n",
        "print(\"num1=\",num1)\n",
        "print(\"num2=\",num2)"
      ]
    },
    {
      "cell_type": "code",
      "execution_count": null,
      "metadata": {
        "id": "SKDrLyQ2_1uI"
      },
      "outputs": [],
      "source": [
        "#input from user\n",
        "num=int(input(\"enter a number\"))\n",
        "#check if the number is odd or even\n",
        "if num%2==0:\n",
        "  print(\"the number is even\")\n",
        "else:\n",
        "    print(\"the number is odd\")"
      ]
    },
    {
      "cell_type": "code",
      "execution_count": null,
      "metadata": {
        "colab": {
          "base_uri": "https://localhost:8080/"
        },
        "id": "0opGX572Mrqt",
        "outputId": "2bf60e6a-e928-4f4a-bd86-1405f43bf42e"
      },
      "outputs": [
        {
          "name": "stdout",
          "output_type": "stream",
          "text": [
            "enter the first number56\n",
            "enter the second number89\n",
            "enter the third number47\n",
            "the largest number is : 89.0\n"
          ]
        }
      ],
      "source": [
        "def find_largest(a,b,c):\n",
        "    if a >= b and a >= c:\n",
        "        return a\n",
        "    elif b >= a and b >= c:\n",
        "        return b\n",
        "    else:\n",
        "        return c\n",
        "\n",
        "a=float(input(\"enter the first number\"))\n",
        "b=float(input(\"enter the second number\"))\n",
        "c=float(input(\"enter the third number\"))\n",
        "\n",
        "largest=find_largest(a,b,c)\n",
        "print(f\"the largest number is : {largest}\")"
      ]
    },
    {
      "cell_type": "code",
      "execution_count": null,
      "metadata": {
        "colab": {
          "base_uri": "https://localhost:8080/"
        },
        "id": "ikzliu_4T6vi",
        "outputId": "96cc3db9-7561-4eb9-aeff-f686663b1ffe"
      },
      "outputs": [
        {
          "name": "stdout",
          "output_type": "stream",
          "text": [
            "Enter the number of terms: 5\n",
            "Fibonacci series:\n",
            "0 1 1 2 3 "
          ]
        }
      ],
      "source": [
        "# Function to print Fibonacci series up to n terms\n",
        "def fibonacci_series(n):\n",
        "    a, b = 0, 1\n",
        "    print(\"Fibonacci series:\")\n",
        "    for _ in range(n):\n",
        "        print(a, end=\" \")\n",
        "        a, b = b, a + b\n",
        "\n",
        "# Main program\n",
        "try:\n",
        "    n = int(input(\"Enter the number of terms: \"))\n",
        "    if n <= 0:\n",
        "        print(\"Please enter a positive number.\")\n",
        "    else:\n",
        "        fibonacci_series(n)\n",
        "except ValueError:\n",
        "    print(\"Invalid input! Please enter an integer.\")"
      ]
    },
    {
      "cell_type": "code",
      "execution_count": null,
      "metadata": {
        "colab": {
          "base_uri": "https://localhost:8080/"
        },
        "id": "lWQco1dhyRRS",
        "outputId": "4a8f1408-ca92-4147-9500-059dc625a0bd"
      },
      "outputs": [
        {
          "name": "stdout",
          "output_type": "stream",
          "text": [
            "Enter the number of terms: 4\n",
            "Fibonacci series:\n",
            "0 1 1 2 "
          ]
        }
      ],
      "source": [
        "\n",
        "def fibonacci_series(n):\n",
        "    a, b = 0, 1\n",
        "    print(\"Fibonacci series:\")\n",
        "    for _ in range(n):\n",
        "        print(a, end=\" \")\n",
        "        a, b = b, a + b\n",
        "\n",
        "try:\n",
        "    n = int(input(\"Enter the number of terms: \"))\n",
        "    if n <= 0:\n",
        "        print(\"Please enter a positive number.\")\n",
        "    else:\n",
        "        fibonacci_series(n)\n",
        "except ValueError:\n",
        "    print(\"Invalid input! Please enter an integer.\")"
      ]
    },
    {
      "cell_type": "code",
      "execution_count": null,
      "metadata": {
        "colab": {
          "base_uri": "https://localhost:8080/"
        },
        "id": "DZzz6wvw0_UM",
        "outputId": "a823a195-6214-4f54-bc8c-0cafa269e914"
      },
      "outputs": [
        {
          "name": "stdout",
          "output_type": "stream",
          "text": [
            "enter a number:3\n",
            "factorial of3is : 6\n"
          ]
        }
      ],
      "source": [
        "def factorial(n):\n",
        "  if n<0:\n",
        "    return\"Factorial is not defined for a negative number\"\n",
        "  elif n==0 or n==1:\n",
        "      return 1\n",
        "  else:\n",
        "        return n*factorial(n-1)\n",
        "num = int(input(\"enter a number:\"))\n",
        "result=factorial(num)\n",
        "print(f\"factorial of{num}is : {result}\")"
      ]
    },
    {
      "cell_type": "code",
      "execution_count": null,
      "metadata": {
        "colab": {
          "base_uri": "https://localhost:8080/"
        },
        "id": "heEwkcTJ8Nxh",
        "outputId": "999541b9-ed52-4ca1-fc6d-43f5a8ad79c7"
      },
      "outputs": [
        {
          "name": "stdout",
          "output_type": "stream",
          "text": [
            "Enter a string: sshgsyb\n",
            "Reversed string: bysghss\n"
          ]
        }
      ],
      "source": [
        "def reverse_string(s):\n",
        "    reversed_str = ''\n",
        "    for char in s:\n",
        "        reversed_str = char + reversed_str\n",
        "    return reversed_str\n",
        "\n",
        "text = input(\"Enter a string: \")\n",
        "result = reverse_string(text)\n",
        "print(\"Reversed string:\",result)"
      ]
    },
    {
      "cell_type": "code",
      "execution_count": null,
      "metadata": {
        "colab": {
          "base_uri": "https://localhost:8080/"
        },
        "id": "Miaq7WSe_-Go",
        "outputId": "1942ef20-f658-414d-b576-acdd8478790d"
      },
      "outputs": [
        {
          "name": "stdout",
          "output_type": "stream",
          "text": [
            "Enter a string: qwertyuioplkjhgfdsazxcvbnm\n",
            "Number of vowels: 5\n"
          ]
        }
      ],
      "source": [
        "def count_vowels(text):\n",
        "    vowels = \"aeiouAEIOU\"\n",
        "    count = 0\n",
        "    for char in text:\n",
        "        if char in vowels:\n",
        "            count += 1\n",
        "    return count\n",
        "\n",
        "input_string = input(\"Enter a string: \")\n",
        "vowel_count = count_vowels(input_string)\n",
        "print(\"Number of vowels:\",vowel_count)"
      ]
    },
    {
      "cell_type": "code",
      "execution_count": null,
      "metadata": {
        "colab": {
          "base_uri": "https://localhost:8080/"
        },
        "id": "_Xw4r8DsOm9L",
        "outputId": "23688d61-abba-4d26-b803-24b087fb623d"
      },
      "outputs": [
        {
          "name": "stdout",
          "output_type": "stream",
          "text": [
            "Enter a number: 5\n",
            "\n",
            "Multiplication Table of 5:\n",
            "5 x 1 = 5\n",
            "5 x 2 = 10\n",
            "5 x 3 = 15\n",
            "5 x 4 = 20\n",
            "5 x 5 = 25\n",
            "5 x 6 = 30\n",
            "5 x 7 = 35\n",
            "5 x 8 = 40\n",
            "5 x 9 = 45\n",
            "5 x 10 = 50\n"
          ]
        }
      ],
      "source": [
        "num = int(input(\"Enter a number: \"))\n",
        "print(f\"\\nMultiplication Table of {num}:\")\n",
        "for i in range(1, 11):\n",
        "    result = num * i\n",
        "    print(num, \"x\",i,\"=\",result)"
      ]
    },
    {
      "cell_type": "code",
      "execution_count": null,
      "metadata": {
        "colab": {
          "base_uri": "https://localhost:8080/"
        },
        "id": "sWKVslbTT_Yv",
        "outputId": "a0e04991-7bec-4d97-e60c-dcee01ea4b13"
      },
      "outputs": [
        {
          "name": "stdout",
          "output_type": "stream",
          "text": [
            "enter a  number2\n",
            "\n",
            " multiplication of 2\n",
            "2 x 1 = 2\n",
            "2 x 2 = 4\n",
            "2 x 3 = 8\n",
            "2 x 4 = 16\n",
            "2 x 5 = 32\n",
            "2 x 6 = 64\n",
            "2 x 7 = 128\n",
            "2 x 8 = 256\n",
            "2 x 9 = 512\n",
            "2 x 10 = 1024\n",
            "2 x 11 = 2048\n",
            "2 x 12 = 4096\n",
            "2 x 13 = 8192\n",
            "2 x 14 = 16384\n",
            "2 x 15 = 32768\n",
            "2 x 16 = 65536\n",
            "2 x 17 = 131072\n",
            "2 x 18 = 262144\n",
            "2 x 19 = 524288\n",
            "2 x 20 = 1048576\n",
            "2 x 21 = 2097152\n",
            "2 x 22 = 4194304\n",
            "2 x 23 = 8388608\n",
            "2 x 24 = 16777216\n",
            "2 x 25 = 33554432\n",
            "2 x 26 = 67108864\n",
            "2 x 27 = 134217728\n",
            "2 x 28 = 268435456\n",
            "2 x 29 = 536870912\n",
            "2 x 30 = 1073741824\n",
            "2 x 31 = 2147483648\n",
            "2 x 32 = 4294967296\n",
            "2 x 33 = 8589934592\n",
            "2 x 34 = 17179869184\n",
            "2 x 35 = 34359738368\n",
            "2 x 36 = 68719476736\n",
            "2 x 37 = 137438953472\n",
            "2 x 38 = 274877906944\n",
            "2 x 39 = 549755813888\n",
            "2 x 40 = 1099511627776\n",
            "2 x 41 = 2199023255552\n",
            "2 x 42 = 4398046511104\n",
            "2 x 43 = 8796093022208\n",
            "2 x 44 = 17592186044416\n",
            "2 x 45 = 35184372088832\n",
            "2 x 46 = 70368744177664\n",
            "2 x 47 = 140737488355328\n",
            "2 x 48 = 281474976710656\n",
            "2 x 49 = 562949953421312\n",
            "2 x 50 = 1125899906842624\n",
            "2 x 51 = 2251799813685248\n",
            "2 x 52 = 4503599627370496\n",
            "2 x 53 = 9007199254740992\n",
            "2 x 54 = 18014398509481984\n",
            "2 x 55 = 36028797018963968\n",
            "2 x 56 = 72057594037927936\n",
            "2 x 57 = 144115188075855872\n",
            "2 x 58 = 288230376151711744\n",
            "2 x 59 = 576460752303423488\n",
            "2 x 60 = 1152921504606846976\n",
            "2 x 61 = 2305843009213693952\n",
            "2 x 62 = 4611686018427387904\n",
            "2 x 63 = 9223372036854775808\n",
            "2 x 64 = 18446744073709551616\n",
            "2 x 65 = 36893488147419103232\n",
            "2 x 66 = 73786976294838206464\n",
            "2 x 67 = 147573952589676412928\n",
            "2 x 68 = 295147905179352825856\n",
            "2 x 69 = 590295810358705651712\n",
            "2 x 70 = 1180591620717411303424\n",
            "2 x 71 = 2361183241434822606848\n",
            "2 x 72 = 4722366482869645213696\n",
            "2 x 73 = 9444732965739290427392\n",
            "2 x 74 = 18889465931478580854784\n",
            "2 x 75 = 37778931862957161709568\n",
            "2 x 76 = 75557863725914323419136\n",
            "2 x 77 = 151115727451828646838272\n",
            "2 x 78 = 302231454903657293676544\n",
            "2 x 79 = 604462909807314587353088\n",
            "2 x 80 = 1208925819614629174706176\n",
            "2 x 81 = 2417851639229258349412352\n",
            "2 x 82 = 4835703278458516698824704\n",
            "2 x 83 = 9671406556917033397649408\n",
            "2 x 84 = 19342813113834066795298816\n",
            "2 x 85 = 38685626227668133590597632\n",
            "2 x 86 = 77371252455336267181195264\n",
            "2 x 87 = 154742504910672534362390528\n",
            "2 x 88 = 309485009821345068724781056\n",
            "2 x 89 = 618970019642690137449562112\n",
            "2 x 90 = 1237940039285380274899124224\n",
            "2 x 91 = 2475880078570760549798248448\n",
            "2 x 92 = 4951760157141521099596496896\n",
            "2 x 93 = 9903520314283042199192993792\n",
            "2 x 94 = 19807040628566084398385987584\n",
            "2 x 95 = 39614081257132168796771975168\n",
            "2 x 96 = 79228162514264337593543950336\n",
            "2 x 97 = 158456325028528675187087900672\n",
            "2 x 98 = 316912650057057350374175801344\n",
            "2 x 99 = 633825300114114700748351602688\n",
            "2 x 100 = 1267650600228229401496703205376\n"
          ]
        }
      ],
      "source": [
        "num=int(input(\"enter a  number\"))\n",
        "print(f\"\\n multiplication of {num}\")\n",
        "for i in range (1,101):\n",
        "  result = num**i\n",
        "  print(num,\"x\",i,\"=\",result )"
      ]
    },
    {
      "cell_type": "code",
      "execution_count": null,
      "metadata": {
        "id": "WY5vLbpePrfs"
      },
      "outputs": [],
      "source": [
        "num = int(input(\"Enter a number: \"))\n",
        "\n",
        "if num > 1:\n",
        "    is_prime = True\n",
        "    for i in range(2, num):\n",
        "        if num % i == 0:\n",
        "            is_prime = False\n",
        "            break\n",
        "    if is_prime:\n",
        "        print(f\"{num} is a prime number.\")\n",
        "    else:\n",
        "        print(f\"{num} is not a prime number.\")\n",
        "else:\n",
        "    print(f\"{num} is not a prime number.\")"
      ]
    },
    {
      "cell_type": "code",
      "execution_count": null,
      "metadata": {
        "colab": {
          "base_uri": "https://localhost:8080/"
        },
        "id": "2FvjVz64jiCA",
        "outputId": "9a8eb149-8d3d-42fc-c23f-ba1d1c7f3de2"
      },
      "outputs": [
        {
          "name": "stdout",
          "output_type": "stream",
          "text": [
            "Enter a year: 2001\n",
            "2001 is not a leap year.\n"
          ]
        }
      ],
      "source": [
        "def is_leap_year(year):#its a user defined fn by passing year as a value\n",
        "    if (year % 4 == 0): #if statement checks a leap year once in a 4 years\n",
        "        if (year % 100 == 0):# if statement checks a leap year once in a 100 years bcz at 100 years 25 days will be more\n",
        "            if (year % 400 == 0):# if statement checks leap year in 400 years for range\n",
        "                return True  # Leap year\n",
        "            else:\n",
        "                return False  # Not a leap year\n",
        "        else:\n",
        "            return True  # Leap year\n",
        "    else:\n",
        "        return False  # Not a leap year\n",
        "\n",
        "# Example usage\n",
        "year = int(input(\"Enter a year: \")) #to take input as a string which converts into integer\n",
        "if is_leap_year(year): #if the year is leap then print that year is a leap year\n",
        "    print(f\"{year} is a leap year.\")\n",
        "else: # if not then print it as not a leap year\n",
        "    print(f\"{year} is not a leap year.\")"
      ]
    },
    {
      "cell_type": "code",
      "execution_count": null,
      "metadata": {
        "colab": {
          "base_uri": "https://localhost:8080/"
        },
        "id": "gbliQXO7rFls",
        "outputId": "4d4f9596-7481-4c5c-bc34-8bea2e052bef"
      },
      "outputs": [
        {
          "name": "stdout",
          "output_type": "stream",
          "text": [
            "enter a number123\n",
            "sum of a number 6\n"
          ]
        }
      ],
      "source": [
        "num=int(input(\"enter a number\"))\n",
        "sum=0\n",
        "while num>0:\n",
        "  digit=num%10\n",
        "  sum+=digit\n",
        "  num=num//10\n",
        "print(\"sum of a number\",sum)"
      ]
    },
    {
      "cell_type": "code",
      "execution_count": null,
      "metadata": {
        "colab": {
          "base_uri": "https://localhost:8080/"
        },
        "id": "-MQz8jpHzFJZ",
        "outputId": "303fa0bf-7390-4324-e6cf-436058ea38a0"
      },
      "outputs": [
        {
          "name": "stdout",
          "output_type": "stream",
          "text": [
            "{'d': 1, 'e': 1, 'v': 1}\n"
          ]
        }
      ],
      "source": [
        "def count_char_frequency(text):\n",
        "    frequency = {}\n",
        "    for char in text:\n",
        "        if char in frequency:\n",
        "            frequency[char] += 1\n",
        "        else:\n",
        "            frequency[char] = 1\n",
        "    return frequency\n",
        "\n",
        "input_string = \"dev\"\n",
        "result = count_char_frequency(input_string)\n",
        "print(result)"
      ]
    },
    {
      "cell_type": "code",
      "execution_count": null,
      "metadata": {
        "colab": {
          "base_uri": "https://localhost:8080/"
        },
        "id": "WYhQLa-V26Jr",
        "outputId": "7f0388f4-24d2-42d1-8f26-1459b550d037"
      },
      "outputs": [
        {
          "name": "stdout",
          "output_type": "stream",
          "text": [
            "[1, 2, 3, 4, 5, 6]\n"
          ]
        }
      ],
      "source": [
        "def merge_and_remove_duplicates(list1, list2):\n",
        "    merged_list = list1 + list2\n",
        "    unique_list = list(set(merged_list))\n",
        "    return unique_list\n",
        "\n",
        "list1 = [1, 2, 3, 4]\n",
        "list2 = [3, 4, 5, 6]\n",
        "result = merge_and_remove_duplicates(list1, list2)\n",
        "print(result)"
      ]
    },
    {
      "cell_type": "code",
      "execution_count": null,
      "metadata": {
        "colab": {
          "base_uri": "https://localhost:8080/"
        },
        "id": "IjWE0ODv6ToQ",
        "outputId": "4540118c-3350-4e0f-a945-947d7641d43f"
      },
      "outputs": [
        {
          "name": "stdout",
          "output_type": "stream",
          "text": [
            "Second largest number: 45\n"
          ]
        }
      ],
      "source": [
        "def find_second_largest(numbers):\n",
        "    largest = second_largest = float('-inf')\n",
        "\n",
        "    for num in numbers:\n",
        "        if num > largest:\n",
        "            second_largest = largest\n",
        "            largest = num\n",
        "        elif num > second_largest and num != largest:\n",
        "            second_largest = num\n",
        "\n",
        "    if second_largest == float('-inf'):\n",
        "        return None\n",
        "    return second_largest\n",
        "\n",
        "my_list = [10, 20, 4, 45, 99]\n",
        "result = find_second_largest(my_list)\n",
        "print(\"Second largest number:\",result)"
      ]
    },
    {
      "cell_type": "code",
      "execution_count": null,
      "metadata": {
        "colab": {
          "base_uri": "https://localhost:8080/"
        },
        "id": "wX0KkvNyEVin",
        "outputId": "f1be7c82-63b3-44f0-d3a1-3ac34dd4e61b"
      },
      "outputs": [
        {
          "name": "stdout",
          "output_type": "stream",
          "text": [
            "Common elements: [3, 4, 5]\n"
          ]
        }
      ],
      "source": [
        "list1 = [1, 2, 3, 4, 5]\n",
        "list2 = [3, 4, 5, 6, 7]\n",
        "common_elements = list(set(list1) & set(list2))\n",
        "print(\"Common elements:\", common_elements)"
      ]
    },
    {
      "cell_type": "code",
      "execution_count": null,
      "metadata": {
        "colab": {
          "background_save": true,
          "base_uri": "https://localhost:8080/"
        },
        "id": "4hGYq29NGSi2",
        "outputId": "f2573326-0b58-4d39-8d77-3f0023319a1e"
      },
      "outputs": [
        {
          "name": "stdout",
          "output_type": "stream",
          "text": [
            "select operation\n",
            "1.add\n",
            "2.subtract\n",
            "3.multiply\n",
            "4.divide\n"
          ]
        }
      ],
      "source": [
        "def add(x,y):\n",
        "  return x+y\n",
        "def subtract(x,y):\n",
        "  return x-y\n",
        "def multiply(x,y):\n",
        "  return x*y\n",
        "def divide(x,y):\n",
        "  if y==0:\n",
        "    return \"cannot divide by zero\"\n",
        "  return x/y\n",
        "print(\"select operation\")\n",
        "print(\"1.add\")\n",
        "print(\"2.subtract\")\n",
        "print(\"3.multiply\")\n",
        "print(\"4.divide\")\n",
        "choice=input(\"enter choice(1/2/3/4):\")\n",
        "num1=float(input(\"enter first number:\"))\n",
        "num2=float(input(\"enter second number:\"))\n",
        "if choice==\"1\":\n",
        "  print(\"Result:\",add(num1,num2))\n",
        "elif choice=='2':\n",
        "  print(\"Result:\",subtract(num1,num2))\n",
        "elif choice=='3':\n",
        "  print(\"Result:\",multiply(num1,num2))\n",
        "elif choice=='4':\n",
        "  print(\"Result:\",divide(num1,num2))\n",
        "else:\n",
        "  print(\"invalid choice \")"
      ]
    },
    {
      "cell_type": "code",
      "execution_count": null,
      "metadata": {
        "colab": {
          "base_uri": "https://localhost:8080/"
        },
        "id": "UxmfHhIZL9G8",
        "outputId": "26d130f3-8170-48d0-bb62-530a8b75a05b"
      },
      "outputs": [
        {
          "name": "stdout",
          "output_type": "stream",
          "text": [
            "Text without punctuation: hello  how are you doing today\n"
          ]
        }
      ],
      "source": [
        "text=\"hello ! how are you doing today?\"\n",
        "punctuations=\"!\"'()-[]{};./\"\\,;:<>./?@#$%^&*_~'''\"\"\n",
        "no_punct = \"\"\n",
        "for char in text:\n",
        "    if char not in punctuations:\n",
        "        no_punct += char\n",
        "print(\"Text without punctuation:\",no_punct)"
      ]
    },
    {
      "cell_type": "code",
      "execution_count": null,
      "metadata": {
        "colab": {
          "base_uri": "https://localhost:8080/"
        },
        "id": "ufvgZNcQ-Vh1",
        "outputId": "421c2016-0667-44ef-fbfc-a96c5c8a6866"
      },
      "outputs": [
        {
          "name": "stdout",
          "output_type": "stream",
          "text": [
            "Error: File 'sample.txt' not found.\n",
            "Number of lines in 'sample.txt':0\n"
          ]
        }
      ],
      "source": [
        "#21. Write a program to read a file and count the number of lines.\n",
        "def count_lines(filename):\n",
        "    try:\n",
        "        with open(filename, 'r') as file:\n",
        "            lines = file.readlines()\n",
        "            return len(lines)\n",
        "    except FileNotFoundError:\n",
        "        print(f\"Error: File '{filename}' not found.\")\n",
        "        return 0\n",
        "\n",
        "\n",
        "file_name = 'sample.txt'\n",
        "line_count = count_lines(file_name)\n",
        "print(f\"Number of lines in '{file_name}':{line_count}\")"
      ]
    },
    {
      "cell_type": "code",
      "execution_count": null,
      "metadata": {
        "colab": {
          "base_uri": "https://localhost:8080/"
        },
        "id": "pJP_77HV-wAS",
        "outputId": "186cb06c-4c98-485f-9bcf-106fda7a23f9"
      },
      "outputs": [
        {
          "name": "stdout",
          "output_type": "stream",
          "text": [
            "Dictionary: {'name': 'Alice', 'age': 25, 'city': 'New York'}\n"
          ]
        }
      ],
      "source": [
        "#22. Create a dictionary from two lists using zip().\n",
        "keys = ['name', 'age', 'city']\n",
        "values = ['Alice', 25, 'New York']\n",
        "\n",
        "my_dict = dict(zip(keys, values))\n",
        "\n",
        "print(\"Dictionary:\",my_dict)"
      ]
    },
    {
      "cell_type": "code",
      "execution_count": null,
      "metadata": {
        "colab": {
          "base_uri": "https://localhost:8080/"
        },
        "id": "6i4FYt0h-77I",
        "outputId": "8d7f287c-0584-42be-c259-730ff7675d7d"
      },
      "outputs": [
        {
          "name": "stdout",
          "output_type": "stream",
          "text": [
            "Pairs with sum 9 : [(4, 5), (2, 7), (8, 1)]\n"
          ]
        }
      ],
      "source": [
        "#23. Find all pairs in a list that sum up to a specific number.\n",
        "\n",
        "def find_pairs(nums, target):\n",
        "    pairs = []\n",
        "    seen = set() #is to merge the number\n",
        "\n",
        "    for num in nums:\n",
        "        complement = target - num\n",
        "        if complement in seen:\n",
        "            pairs.append((complement, num))\n",
        "        seen.add(num)\n",
        "\n",
        "    return pairs\n",
        "\n",
        "numbers = [2, 4, 3, 5, 7, 8, 1]\n",
        "target_sum = 9\n",
        "\n",
        "result = find_pairs(numbers, target_sum)\n",
        "print(\"Pairs with sum\", target_sum,\":\",result)"
      ]
    },
    {
      "cell_type": "code",
      "execution_count": null,
      "metadata": {
        "colab": {
          "base_uri": "https://localhost:8080/"
        },
        "id": "NuDyLkie-4Gb",
        "outputId": "3d8f385e-2e1b-416c-d34c-bbbd088c1349"
      },
      "outputs": [
        {
          "name": "stdout",
          "output_type": "stream",
          "text": [
            "Flattened List: [1, 2, 3, 4, 5, 6, 7, 8]\n"
          ]
        }
      ],
      "source": [
        "#24. Write a Python program to flatten a nested list.\n",
        "\n",
        "def flatten(nested_list):\n",
        "    flat_list = []\n",
        "    for item in nested_list:\n",
        "        if isinstance(item, list):\n",
        "            flat_list.extend(flatten(item))  # Recursively flatten\n",
        "        else:\n",
        "            flat_list.append(item)\n",
        "    return flat_list\n",
        "\n",
        "nested = [1, [2, [3, 4], 5], [6, 7], 8]\n",
        "flattened = flatten(nested)\n",
        "print(\"Flattened List:\",flattened)"
      ]
    },
    {
      "cell_type": "code",
      "execution_count": null,
      "metadata": {
        "colab": {
          "base_uri": "https://localhost:8080/"
        },
        "id": "FwtpWLc1_H7Q",
        "outputId": "3fe6de8e-5a52-4bdb-f5f2-c4c384da804e"
      },
      "outputs": [
        {
          "name": "stdout",
          "output_type": "stream",
          "text": [
            "List without duplicates: [1, 2, 3, 4, 5]\n"
          ]
        }
      ],
      "source": [
        "#25. Remove duplicates from a list while maintaining order.\n",
        "\n",
        "def remove_duplicates(lst):\n",
        "    seen = set()\n",
        "    result = []\n",
        "    for item in lst:\n",
        "        if item not in seen:\n",
        "            result.append(item)\n",
        "            seen.add(item)\n",
        "    return result\n",
        "\n",
        "original_list = [1, 2, 3, 2, 4, 1, 5, 3]\n",
        "unique_list = remove_duplicates(original_list)\n",
        "print(\"List without duplicates:\",unique_list)"
      ]
    },
    {
      "cell_type": "code",
      "execution_count": null,
      "metadata": {
        "colab": {
          "base_uri": "https://localhost:8080/",
          "height": 210
        },
        "id": "wslyBWPw_Uwx",
        "outputId": "aab3f48d-ae10-4acd-fa19-e55888277a9d"
      },
      "outputs": [
        {
          "ename": "TypeError",
          "evalue": "BankAccount() takes no arguments",
          "output_type": "error",
          "traceback": [
            "\u001b[0;31m---------------------------------------------------------------------------\u001b[0m",
            "\u001b[0;31mTypeError\u001b[0m                                 Traceback (most recent call last)",
            "\u001b[0;32m/tmp/ipython-input-1769994786.py\u001b[0m in \u001b[0;36m<cell line: 0>\u001b[0;34m()\u001b[0m\n\u001b[1;32m     25\u001b[0m         \u001b[0mprint\u001b[0m\u001b[0;34m(\u001b[0m\u001b[0;34mf\"{self.account_holder}'s balance: ₹{self.balance}\"\u001b[0m\u001b[0;34m)\u001b[0m\u001b[0;34m\u001b[0m\u001b[0;34m\u001b[0m\u001b[0m\n\u001b[1;32m     26\u001b[0m \u001b[0;34m\u001b[0m\u001b[0m\n\u001b[0;32m---> 27\u001b[0;31m \u001b[0maccount\u001b[0m \u001b[0;34m=\u001b[0m \u001b[0mBankAccount\u001b[0m\u001b[0;34m(\u001b[0m\u001b[0;34m\"vishwa\"\u001b[0m\u001b[0;34m,\u001b[0m\u001b[0;36m1000\u001b[0m\u001b[0;34m)\u001b[0m\u001b[0;34m\u001b[0m\u001b[0;34m\u001b[0m\u001b[0m\n\u001b[0m\u001b[1;32m     28\u001b[0m \u001b[0maccount\u001b[0m\u001b[0;34m.\u001b[0m\u001b[0mdisplay_balance\u001b[0m\u001b[0;34m(\u001b[0m\u001b[0;34m)\u001b[0m\u001b[0;34m\u001b[0m\u001b[0;34m\u001b[0m\u001b[0m\n\u001b[1;32m     29\u001b[0m \u001b[0maccount\u001b[0m\u001b[0;34m.\u001b[0m\u001b[0mdeposit\u001b[0m\u001b[0;34m(\u001b[0m\u001b[0;36m500\u001b[0m\u001b[0;34m)\u001b[0m\u001b[0;34m\u001b[0m\u001b[0;34m\u001b[0m\u001b[0m\n",
            "\u001b[0;31mTypeError\u001b[0m: BankAccount() takes no arguments"
          ]
        }
      ],
      "source": [
        "#26. Write a class for a Bank Account with deposit and withdrawal functionality.\n",
        "\n",
        "class BankAccount:\n",
        "    def _init_(self, account_holder, balance=0):\n",
        "        self.account_holder = account_holder\n",
        "        self.balance = balance\n",
        "\n",
        "    def deposit(self, amount):\n",
        "        if amount > 0:\n",
        "            self.balance += amount\n",
        "            print(f\"Deposited ₹{amount}. New balance: ₹{self.balance}\")\n",
        "        else:\n",
        "            print(\"Deposit amount must be positive.\")\n",
        "\n",
        "    def withdraw(self, amount):\n",
        "        if amount <= 0:\n",
        "            print(\"Withdrawal amount must be positive.\")\n",
        "        elif amount > self.balance:\n",
        "            print(\"Insufficient balance.\")\n",
        "        else:\n",
        "            self.balance -= amount\n",
        "            print(f\"Withdrew ₹{amount}. New balance: ₹{self.balance}\")\n",
        "\n",
        "    def display_balance(self):\n",
        "        print(f\"{self.account_holder}'s balance: ₹{self.balance}\")\n",
        "\n",
        "account = BankAccount(\"vishwa\",1000)\n",
        "account.display_balance()\n",
        "account.deposit(500)\n",
        "account.withdraw(300)\n",
        "account.withdraw(1500)"
      ]
    },
    {
      "cell_type": "code",
      "execution_count": null,
      "metadata": {
        "colab": {
          "base_uri": "https://localhost:8080/"
        },
        "id": "SiFcVQ6W_vxw",
        "outputId": "34c4a46b-fdd1-4f66-d16e-5ac8cb2568e5"
      },
      "outputs": [
        {
          "name": "stdout",
          "output_type": "stream",
          "text": [
            "'listen' and 'silent' are anagrams.\n"
          ]
        }
      ],
      "source": [
        "def are_anagrams(str1, str2):\n",
        "\n",
        "    str1 = str1.replace(\" \", \"\").lower()\n",
        "    str2 = str2.replace(\" \", \"\").lower()\n",
        "\n",
        "    return sorted(str1) == sorted(str2)\n",
        "word1 = \"listen\"\n",
        "word2 = \"silent\"\n",
        "\n",
        "if are_anagrams(word1, word2):\n",
        "    print(f\"'{word1}' and '{word2}' are anagrams.\")\n",
        "else:\n",
        "    print(f\"'{word1}' and '{word2}' are not anagrams.\")\n"
      ]
    },
    {
      "cell_type": "code",
      "execution_count": null,
      "metadata": {
        "colab": {
          "base_uri": "https://localhost:8080/"
        },
        "id": "6RQycyrL__Kt",
        "outputId": "9826acf4-5741-4152-d473-b0eebe9f87ee"
      },
      "outputs": [
        {
          "name": "stdout",
          "output_type": "stream",
          "text": [
            "Integer value of MCMXCIV is 1994\n"
          ]
        }
      ],
      "source": [
        "def roman_to_int(s):\n",
        "    roman_map = {\n",
        "        'I': 1, 'V': 5, 'X': 10,\n",
        "        'L': 50, 'C': 100,\n",
        "        'D': 500, 'M': 1000\n",
        "    }\n",
        "\n",
        "    total = 0\n",
        "    prev_value = 0\n",
        "\n",
        "    for char in reversed(s.upper()):\n",
        "        value = roman_map.get(char, 0)\n",
        "        if value < prev_value:\n",
        "            total -= value\n",
        "        else:\n",
        "            total += value\n",
        "        prev_value = value\n",
        "\n",
        "    return total\n",
        "\n",
        "\n",
        "roman_numeral = \"MCMXCIV\"\n",
        "print(f\"Integer value of {roman_numeral} is\", roman_to_int(roman_numeral))\n"
      ]
    },
    {
      "cell_type": "code",
      "execution_count": null,
      "metadata": {
        "colab": {
          "base_uri": "https://localhost:8080/",
          "height": 106
        },
        "id": "J9O-GmdsALsv",
        "outputId": "3e4bbb3f-f7f1-4a8f-e040-5ccfb2628502"
      },
      "outputs": [
        {
          "ename": "SyntaxError",
          "evalue": "invalid non-printable character U+00A0 (ipython-input-11-1329091058.py, line 25)",
          "output_type": "error",
          "traceback": [
            "\u001b[0;36m  File \u001b[0;32m\"/tmp/ipython-input-11-1329091058.py\"\u001b[0;36m, line \u001b[0;32m25\u001b[0m\n\u001b[0;31m    returnlen(s)\u001b[0m\n\u001b[0m    ^\u001b[0m\n\u001b[0;31mSyntaxError\u001b[0m\u001b[0;31m:\u001b[0m invalid non-printable character U+00A0\n"
          ]
        }
      ],
      "source": [
        "class Stack:\n",
        "    def _init_(self):\n",
        "        self.items = []\n",
        "\n",
        "    def push(self, item):\n",
        "        self.items.append(item)\n",
        "        print(f\"Pushed: {item}\")\n",
        "\n",
        "    def pop(self):\n",
        "        if self.is_empty():\n",
        "            print(\"Stack is empty. Cannot pop.\")\n",
        "            return None\n",
        "        return self.items.pop()\n",
        "\n",
        "    def peek(self):\n",
        "        if self.is_empty():\n",
        "            print(\"Stack is empty.\")\n",
        "            return None\n",
        "        return self.items[-1]\n",
        "\n",
        "    def is_empty(self):\n",
        "        return len(self.items) == 0\n",
        "\n",
        "    def size(self):\n",
        "        returnlen(s)\n"
      ]
    },
    {
      "cell_type": "code",
      "execution_count": null,
      "metadata": {
        "colab": {
          "base_uri": "https://localhost:8080/",
          "height": 332
        },
        "id": "6ztVux3oAatZ",
        "outputId": "03339e57-d4d4-4879-d3c4-02d0bd96c419"
      },
      "outputs": [
        {
          "ename": "AttributeError",
          "evalue": "'Queue' object has no attribute 'queue'",
          "output_type": "error",
          "traceback": [
            "\u001b[0;31m---------------------------------------------------------------------------\u001b[0m",
            "\u001b[0;31mAttributeError\u001b[0m                            Traceback (most recent call last)",
            "\u001b[0;32m/tmp/ipython-input-12-1512513090.py\u001b[0m in \u001b[0;36m<cell line: 0>\u001b[0;34m()\u001b[0m\n\u001b[1;32m     31\u001b[0m \u001b[0;34m\u001b[0m\u001b[0m\n\u001b[1;32m     32\u001b[0m \u001b[0mq\u001b[0m \u001b[0;34m=\u001b[0m \u001b[0mQueue\u001b[0m\u001b[0;34m(\u001b[0m\u001b[0;34m)\u001b[0m\u001b[0;34m\u001b[0m\u001b[0;34m\u001b[0m\u001b[0m\n\u001b[0;32m---> 33\u001b[0;31m \u001b[0mq\u001b[0m\u001b[0;34m.\u001b[0m\u001b[0menqueue\u001b[0m\u001b[0;34m(\u001b[0m\u001b[0;36m10\u001b[0m\u001b[0;34m)\u001b[0m\u001b[0;34m\u001b[0m\u001b[0;34m\u001b[0m\u001b[0m\n\u001b[0m\u001b[1;32m     34\u001b[0m \u001b[0mq\u001b[0m\u001b[0;34m.\u001b[0m\u001b[0menqueue\u001b[0m\u001b[0;34m(\u001b[0m\u001b[0;36m20\u001b[0m\u001b[0;34m)\u001b[0m\u001b[0;34m\u001b[0m\u001b[0;34m\u001b[0m\u001b[0m\n\u001b[1;32m     35\u001b[0m \u001b[0mq\u001b[0m\u001b[0;34m.\u001b[0m\u001b[0menqueue\u001b[0m\u001b[0;34m(\u001b[0m\u001b[0;36m30\u001b[0m\u001b[0;34m)\u001b[0m\u001b[0;34m\u001b[0m\u001b[0;34m\u001b[0m\u001b[0m\n",
            "\u001b[0;32m/tmp/ipython-input-12-1512513090.py\u001b[0m in \u001b[0;36menqueue\u001b[0;34m(self, item)\u001b[0m\n\u001b[1;32m      6\u001b[0m \u001b[0;34m\u001b[0m\u001b[0m\n\u001b[1;32m      7\u001b[0m    \u001b[0;32mdef\u001b[0m \u001b[0menqueue\u001b[0m\u001b[0;34m(\u001b[0m\u001b[0mself\u001b[0m\u001b[0;34m,\u001b[0m \u001b[0mitem\u001b[0m\u001b[0;34m)\u001b[0m\u001b[0;34m:\u001b[0m\u001b[0;34m\u001b[0m\u001b[0;34m\u001b[0m\u001b[0m\n\u001b[0;32m----> 8\u001b[0;31m        \u001b[0mself\u001b[0m\u001b[0;34m.\u001b[0m\u001b[0mqueue\u001b[0m\u001b[0;34m.\u001b[0m\u001b[0mappend\u001b[0m\u001b[0;34m(\u001b[0m\u001b[0mitem\u001b[0m\u001b[0;34m)\u001b[0m\u001b[0;34m\u001b[0m\u001b[0;34m\u001b[0m\u001b[0m\n\u001b[0m\u001b[1;32m      9\u001b[0m        \u001b[0mprint\u001b[0m\u001b[0;34m(\u001b[0m\u001b[0;34mf\"Enqueued: {item}\"\u001b[0m\u001b[0;34m)\u001b[0m\u001b[0;34m\u001b[0m\u001b[0;34m\u001b[0m\u001b[0m\n\u001b[1;32m     10\u001b[0m \u001b[0;34m\u001b[0m\u001b[0m\n",
            "\u001b[0;31mAttributeError\u001b[0m: 'Queue' object has no attribute 'queue'"
          ]
        }
      ],
      "source": [
        "from collections import deque\n",
        "\n",
        "class Queue:\n",
        "    def _init_(self):\n",
        "        self.queue = deque()\n",
        "\n",
        "    def enqueue(self, item):\n",
        "        self.queue.append(item)\n",
        "        print(f\"Enqueued: {item}\")\n",
        "\n",
        "    def dequeue(self):\n",
        "        if self.is_empty():\n",
        "            print(\"Queue is empty. Cannot dequeue.\")\n",
        "            return None\n",
        "        return self.queue.popleft()\n",
        "\n",
        "    def peek(self):\n",
        "        if self.is_empty():\n",
        "            print(\"Queue is empty.\")\n",
        "            return None\n",
        "        return self.queue[0]\n",
        "\n",
        "    def is_empty(self):\n",
        "        return len(self.queue) == 0\n",
        "\n",
        "    def size(self):\n",
        "        return len(self.queue)\n",
        "\n",
        "    def display(self):\n",
        "        print(\"Queue:\", list(self.queue))\n",
        "\n",
        "q = Queue()\n",
        "q.enqueue(10)\n",
        "q.enqueue(20)\n",
        "q.enqueue(30)\n",
        "q.display()\n",
        "\n",
        "print(\"Front of queue:\", q.peek())\n",
        "print(\"Dequeued:\", q.dequeue())\n",
        "q.display()\n"
      ]
    },
    {
      "cell_type": "code",
      "execution_count": null,
      "metadata": {
        "colab": {
          "base_uri": "https://localhost:8080/"
        },
        "id": "pFZUHsexuOEu",
        "outputId": "33f1c353-6b12-4bf9-9f6c-c8ad0d960a07"
      },
      "outputs": [
        {
          "name": "stdout",
          "output_type": "stream",
          "text": [
            "Sorted list: [2, 3, 5, 6, 8]\n"
          ]
        }
      ],
      "source": [
        "#19\n",
        "def simple_sort(my_list):\n",
        "    n = len(my_list)\n",
        "\n",
        "    for i in range(n):\n",
        "        for j in range(0, n - i - 1):\n",
        "            if my_list[j] > my_list[j + 1]:\n",
        "\n",
        "                temp = my_list[j]\n",
        "                my_list[j] = my_list[j + 1]\n",
        "                my_list[j + 1] = temp\n",
        "\n",
        "    return my_list\n",
        "\n",
        "numbers = [5, 3, 8, 6, 2]\n",
        "\n",
        "sorted_numbers = simple_sort(numbers)\n",
        "\n",
        "print(\"Sorted list:\",sorted_numbers)"
      ]
    },
    {
      "cell_type": "code",
      "execution_count": null,
      "metadata": {
        "id": "Xt9oKLkh7Gpa"
      },
      "outputs": [],
      "source": [
        "#20 Function to find the GCD of two numbers\n",
        "def find_gcd(a, b):\n",
        "    while b != 0:\n",
        "        # Find the remainder when a is divided by b\n",
        "        remainder = a % b\n",
        "        # Assign b to a, and remainder to b\n",
        "        a = b\n",
        "        b = remainder\n",
        "    return a  # When b becomes 0, a is the GCD\n",
        "\n",
        "# Input from the user\n",
        "num1 = int(input(\"Enter the first number: \"))\n",
        "num2 = int(input(\"Enter the second number: \"))\n",
        "\n",
        "# Call the function and store the result\n",
        "gcd = find_gcd(num1, num2)\n",
        "\n",
        "# Display the result\n",
        "print(\"The GCD of\", num1, \"and\", num2,\"is:\",gcd)"
      ]
    },
    {
      "cell_type": "code",
      "execution_count": null,
      "metadata": {
        "colab": {
          "background_save": true,
          "base_uri": "https://localhost:8080/"
        },
        "id": "TdUZrPRy8yWg",
        "outputId": "3cdc4263-d684-49ed-d3d8-60039614cbcf"
      },
      "outputs": [
        {
          "name": "stdout",
          "output_type": "stream",
          "text": [
            "1. Add Student\n",
            "2. Display Students\n",
            "3. Exit\n",
            "Student added successfully!\n",
            "\n",
            "1. Add Student\n",
            "2. Display Students\n",
            "3. Exit\n"
          ]
        }
      ],
      "source": [
        "# Define a Student class\n",
        "class Student:\n",
        "    def __init__(self, name, age, grade):\n",
        "        self.name = name    # Store the student's name\n",
        "        self.age = age      # Store the student's age\n",
        "        self.grade = grade  # Store the student's grade\n",
        "\n",
        "    # Method to display student details\n",
        "    def display(self):\n",
        "        print(f\"Name: {self.name}, Age: {self.age}, Grade: {self.grade}\")\n",
        "\n",
        "# Create a list to store students\n",
        "students = []\n",
        "\n",
        "# Function to add a new student\n",
        "def add_student():\n",
        "    name = input(\"Enter student's name: \")\n",
        "    age = int(input(\"Enter student's age: \"))\n",
        "    grade = input(\"Enter student's grade: \")\n",
        "    student = Student(name, age, grade)  # Create a new Student object\n",
        "    students.append(student)            # Add it to the list\n",
        "    print(\"Student added successfully!\\n\")\n",
        "\n",
        "# Function to display all students\n",
        "def display_students():\n",
        "    if not students:\n",
        "        print(\"No students available.\\n\")\n",
        "    else:\n",
        "        print(\"Student Details:\")\n",
        "        for student in students:\n",
        "            student.display()\n",
        "        print()\n",
        "\n",
        "# Main program loop\n",
        "while True:\n",
        "    print(\"1. Add Student\")\n",
        "    print(\"2. Display Students\")\n",
        "    print(\"3. Exit\")\n",
        "    choice = input(\"Enter your choice: \")\n",
        "\n",
        "    if choice == '1':\n",
        "        add_student()\n",
        "    elif choice == '2':\n",
        "        display_students()\n",
        "    elif choice == '3':\n",
        "        print(\"Exiting the program.\")\n",
        "        break\n",
        "    else:\n",
        "        print(\"Invalid choice! Please try again.\\n\")\n"
      ]
    },
    {
      "cell_type": "code",
      "source": [
        "def roman_to_int(roman):\n",
        "\n",
        "    roman_dict = {\n",
        "        'I': 1,\n",
        "        'V': 5,\n",
        "        'X': 10,\n",
        "        'L': 50,\n",
        "        'C': 100,\n",
        "        'D': 500,\n",
        "        'M': 1000\n",
        "    }\n",
        "\n",
        "    total = 0\n",
        "    prev_value = 0\n",
        "\n",
        "    for char in reversed(roman):\n",
        "        value = roman_dict[char]\n",
        "        if value < prev_value:\n",
        "            total -= value\n",
        "        else:\n",
        "            # Otherwise, add it to the total\n",
        "            total += value\n",
        "\n",
        "        prev_value = value  # Update previous value for next iteration\n",
        "\n",
        "    return total\n",
        "\n",
        "# Example usage\n",
        "roman_numeral = input(\"Enter Roman numeral: \")\n",
        "result = roman_to_int(roman_numeral)\n",
        "print(\"Integer value:\",result)\n"
      ],
      "metadata": {
        "colab": {
          "base_uri": "https://localhost:8080/",
          "height": 1000
        },
        "id": "1XiKt4_-e89m",
        "outputId": "7163830a-217a-4201-a0a3-bdf95e2f08c7"
      },
      "execution_count": 1,
      "outputs": [
        {
          "output_type": "stream",
          "name": "stderr",
          "text": [
            "ERROR:root:Internal Python error in the inspect module.\n",
            "Below is the traceback from this internal error.\n",
            "\n"
          ]
        },
        {
          "output_type": "stream",
          "name": "stdout",
          "text": [
            "Traceback (most recent call last):\n",
            "  File \"/usr/local/lib/python3.12/dist-packages/IPython/core/interactiveshell.py\", line 3553, in run_code\n",
            "    exec(code_obj, self.user_global_ns, self.user_ns)\n",
            "  File \"/tmp/ipython-input-2269658437.py\", line 32, in <cell line: 0>\n",
            "    roman_numeral = input(\"Enter Roman numeral: \")\n",
            "                    ^^^^^^^^^^^^^^^^^^^^^^^^^^^^^^\n",
            "  File \"/usr/local/lib/python3.12/dist-packages/ipykernel/kernelbase.py\", line 1177, in raw_input\n",
            "    return self._input_request(\n",
            "           ^^^^^^^^^^^^^^^^^^^^\n",
            "  File \"/usr/local/lib/python3.12/dist-packages/ipykernel/kernelbase.py\", line 1219, in _input_request\n",
            "    raise KeyboardInterrupt(\"Interrupted by user\") from None\n",
            "KeyboardInterrupt: Interrupted by user\n",
            "\n",
            "During handling of the above exception, another exception occurred:\n",
            "\n",
            "Traceback (most recent call last):\n",
            "  File \"/usr/local/lib/python3.12/dist-packages/IPython/core/interactiveshell.py\", line 2099, in showtraceback\n",
            "    stb = value._render_traceback_()\n",
            "          ^^^^^^^^^^^^^^^^^^^^^^^^\n",
            "AttributeError: 'KeyboardInterrupt' object has no attribute '_render_traceback_'\n",
            "\n",
            "During handling of the above exception, another exception occurred:\n",
            "\n",
            "Traceback (most recent call last):\n",
            "  File \"/usr/local/lib/python3.12/dist-packages/IPython/core/ultratb.py\", line 1101, in get_records\n",
            "    return _fixed_getinnerframes(etb, number_of_lines_of_context, tb_offset)\n",
            "           ^^^^^^^^^^^^^^^^^^^^^^^^^^^^^^^^^^^^^^^^^^^^^^^^^^^^^^^^^^^^^^^^^\n",
            "  File \"/usr/local/lib/python3.12/dist-packages/IPython/core/ultratb.py\", line 248, in wrapped\n",
            "    return f(*args, **kwargs)\n",
            "           ^^^^^^^^^^^^^^^^^^\n",
            "  File \"/usr/local/lib/python3.12/dist-packages/IPython/core/ultratb.py\", line 281, in _fixed_getinnerframes\n",
            "    records = fix_frame_records_filenames(inspect.getinnerframes(etb, context))\n",
            "                                          ^^^^^^^^^^^^^^^^^^^^^^^^^^^^^^^^^^^^\n",
            "  File \"/usr/lib/python3.12/inspect.py\", line 1769, in getinnerframes\n",
            "    traceback_info = getframeinfo(tb, context)\n",
            "                     ^^^^^^^^^^^^^^^^^^^^^^^^^\n",
            "  File \"/usr/lib/python3.12/inspect.py\", line 1718, in getframeinfo\n",
            "    lines, lnum = findsource(frame)\n",
            "                  ^^^^^^^^^^^^^^^^^\n",
            "  File \"/usr/local/lib/python3.12/dist-packages/IPython/core/ultratb.py\", line 182, in findsource\n",
            "    lines = linecache.getlines(file, globals_dict)\n",
            "            ^^^^^^^^^^^^^^^^^^^^^^^^^^^^^^^^^^^^^^\n",
            "  File \"/usr/lib/python3.12/linecache.py\", line 46, in getlines\n",
            "    return updatecache(filename, module_globals)\n",
            "           ^^^^^^^^^^^^^^^^^^^^^^^^^^^^^^^^^^^^^\n",
            "  File \"/usr/lib/python3.12/linecache.py\", line 142, in updatecache\n",
            "    lines = fp.readlines()\n",
            "            ^^^^^^^^^^^^^^\n",
            "  File \"<frozen codecs>\", line 319, in decode\n",
            "KeyboardInterrupt\n"
          ]
        },
        {
          "output_type": "error",
          "ename": "TypeError",
          "evalue": "object of type 'NoneType' has no len()",
          "traceback": [
            "\u001b[0;31m---------------------------------------------------------------------------\u001b[0m",
            "\u001b[0;31mKeyboardInterrupt\u001b[0m                         Traceback (most recent call last)",
            "    \u001b[0;31m[... skipping hidden 1 frame]\u001b[0m\n",
            "\u001b[0;32m/tmp/ipython-input-2269658437.py\u001b[0m in \u001b[0;36m<cell line: 0>\u001b[0;34m()\u001b[0m\n\u001b[1;32m     31\u001b[0m \u001b[0;31m# Example usage\u001b[0m\u001b[0;34m\u001b[0m\u001b[0;34m\u001b[0m\u001b[0m\n\u001b[0;32m---> 32\u001b[0;31m \u001b[0mroman_numeral\u001b[0m \u001b[0;34m=\u001b[0m \u001b[0minput\u001b[0m\u001b[0;34m(\u001b[0m\u001b[0;34m\"Enter Roman numeral: \"\u001b[0m\u001b[0;34m)\u001b[0m\u001b[0;34m\u001b[0m\u001b[0;34m\u001b[0m\u001b[0m\n\u001b[0m\u001b[1;32m     33\u001b[0m \u001b[0mresult\u001b[0m \u001b[0;34m=\u001b[0m \u001b[0mroman_to_int\u001b[0m\u001b[0;34m(\u001b[0m\u001b[0mroman_numeral\u001b[0m\u001b[0;34m)\u001b[0m\u001b[0;34m\u001b[0m\u001b[0;34m\u001b[0m\u001b[0m\n",
            "\u001b[0;32m/usr/local/lib/python3.12/dist-packages/ipykernel/kernelbase.py\u001b[0m in \u001b[0;36mraw_input\u001b[0;34m(self, prompt)\u001b[0m\n\u001b[1;32m   1176\u001b[0m             )\n\u001b[0;32m-> 1177\u001b[0;31m         return self._input_request(\n\u001b[0m\u001b[1;32m   1178\u001b[0m             \u001b[0mstr\u001b[0m\u001b[0;34m(\u001b[0m\u001b[0mprompt\u001b[0m\u001b[0;34m)\u001b[0m\u001b[0;34m,\u001b[0m\u001b[0;34m\u001b[0m\u001b[0;34m\u001b[0m\u001b[0m\n",
            "\u001b[0;32m/usr/local/lib/python3.12/dist-packages/ipykernel/kernelbase.py\u001b[0m in \u001b[0;36m_input_request\u001b[0;34m(self, prompt, ident, parent, password)\u001b[0m\n\u001b[1;32m   1218\u001b[0m                 \u001b[0;31m# re-raise KeyboardInterrupt, to truncate traceback\u001b[0m\u001b[0;34m\u001b[0m\u001b[0;34m\u001b[0m\u001b[0m\n\u001b[0;32m-> 1219\u001b[0;31m                 \u001b[0;32mraise\u001b[0m \u001b[0mKeyboardInterrupt\u001b[0m\u001b[0;34m(\u001b[0m\u001b[0;34m\"Interrupted by user\"\u001b[0m\u001b[0;34m)\u001b[0m \u001b[0;32mfrom\u001b[0m \u001b[0;32mNone\u001b[0m\u001b[0;34m\u001b[0m\u001b[0;34m\u001b[0m\u001b[0m\n\u001b[0m\u001b[1;32m   1220\u001b[0m             \u001b[0;32mexcept\u001b[0m \u001b[0mException\u001b[0m\u001b[0;34m:\u001b[0m\u001b[0;34m\u001b[0m\u001b[0;34m\u001b[0m\u001b[0m\n",
            "\u001b[0;31mKeyboardInterrupt\u001b[0m: Interrupted by user",
            "\nDuring handling of the above exception, another exception occurred:\n",
            "\u001b[0;31mAttributeError\u001b[0m                            Traceback (most recent call last)",
            "\u001b[0;32m/usr/local/lib/python3.12/dist-packages/IPython/core/interactiveshell.py\u001b[0m in \u001b[0;36mshowtraceback\u001b[0;34m(self, exc_tuple, filename, tb_offset, exception_only, running_compiled_code)\u001b[0m\n\u001b[1;32m   2098\u001b[0m                         \u001b[0;31m# in the engines. This should return a list of strings.\u001b[0m\u001b[0;34m\u001b[0m\u001b[0;34m\u001b[0m\u001b[0m\n\u001b[0;32m-> 2099\u001b[0;31m                         \u001b[0mstb\u001b[0m \u001b[0;34m=\u001b[0m \u001b[0mvalue\u001b[0m\u001b[0;34m.\u001b[0m\u001b[0m_render_traceback_\u001b[0m\u001b[0;34m(\u001b[0m\u001b[0;34m)\u001b[0m\u001b[0;34m\u001b[0m\u001b[0;34m\u001b[0m\u001b[0m\n\u001b[0m\u001b[1;32m   2100\u001b[0m                     \u001b[0;32mexcept\u001b[0m \u001b[0mException\u001b[0m\u001b[0;34m:\u001b[0m\u001b[0;34m\u001b[0m\u001b[0;34m\u001b[0m\u001b[0m\n",
            "\u001b[0;31mAttributeError\u001b[0m: 'KeyboardInterrupt' object has no attribute '_render_traceback_'",
            "\nDuring handling of the above exception, another exception occurred:\n",
            "\u001b[0;31mTypeError\u001b[0m                                 Traceback (most recent call last)",
            "    \u001b[0;31m[... skipping hidden 1 frame]\u001b[0m\n",
            "\u001b[0;32m/usr/local/lib/python3.12/dist-packages/IPython/core/interactiveshell.py\u001b[0m in \u001b[0;36mshowtraceback\u001b[0;34m(self, exc_tuple, filename, tb_offset, exception_only, running_compiled_code)\u001b[0m\n\u001b[1;32m   2099\u001b[0m                         \u001b[0mstb\u001b[0m \u001b[0;34m=\u001b[0m \u001b[0mvalue\u001b[0m\u001b[0;34m.\u001b[0m\u001b[0m_render_traceback_\u001b[0m\u001b[0;34m(\u001b[0m\u001b[0;34m)\u001b[0m\u001b[0;34m\u001b[0m\u001b[0;34m\u001b[0m\u001b[0m\n\u001b[1;32m   2100\u001b[0m                     \u001b[0;32mexcept\u001b[0m \u001b[0mException\u001b[0m\u001b[0;34m:\u001b[0m\u001b[0;34m\u001b[0m\u001b[0;34m\u001b[0m\u001b[0m\n\u001b[0;32m-> 2101\u001b[0;31m                         stb = self.InteractiveTB.structured_traceback(etype,\n\u001b[0m\u001b[1;32m   2102\u001b[0m                                             value, tb, tb_offset=tb_offset)\n\u001b[1;32m   2103\u001b[0m \u001b[0;34m\u001b[0m\u001b[0m\n",
            "\u001b[0;32m/usr/local/lib/python3.12/dist-packages/IPython/core/ultratb.py\u001b[0m in \u001b[0;36mstructured_traceback\u001b[0;34m(self, etype, value, tb, tb_offset, number_of_lines_of_context)\u001b[0m\n\u001b[1;32m   1365\u001b[0m         \u001b[0;32melse\u001b[0m\u001b[0;34m:\u001b[0m\u001b[0;34m\u001b[0m\u001b[0;34m\u001b[0m\u001b[0m\n\u001b[1;32m   1366\u001b[0m             \u001b[0mself\u001b[0m\u001b[0;34m.\u001b[0m\u001b[0mtb\u001b[0m \u001b[0;34m=\u001b[0m \u001b[0mtb\u001b[0m\u001b[0;34m\u001b[0m\u001b[0;34m\u001b[0m\u001b[0m\n\u001b[0;32m-> 1367\u001b[0;31m         return FormattedTB.structured_traceback(\n\u001b[0m\u001b[1;32m   1368\u001b[0m             self, etype, value, tb, tb_offset, number_of_lines_of_context)\n\u001b[1;32m   1369\u001b[0m \u001b[0;34m\u001b[0m\u001b[0m\n",
            "\u001b[0;32m/usr/local/lib/python3.12/dist-packages/IPython/core/ultratb.py\u001b[0m in \u001b[0;36mstructured_traceback\u001b[0;34m(self, etype, value, tb, tb_offset, number_of_lines_of_context)\u001b[0m\n\u001b[1;32m   1265\u001b[0m         \u001b[0;32mif\u001b[0m \u001b[0mmode\u001b[0m \u001b[0;32min\u001b[0m \u001b[0mself\u001b[0m\u001b[0;34m.\u001b[0m\u001b[0mverbose_modes\u001b[0m\u001b[0;34m:\u001b[0m\u001b[0;34m\u001b[0m\u001b[0;34m\u001b[0m\u001b[0m\n\u001b[1;32m   1266\u001b[0m             \u001b[0;31m# Verbose modes need a full traceback\u001b[0m\u001b[0;34m\u001b[0m\u001b[0;34m\u001b[0m\u001b[0m\n\u001b[0;32m-> 1267\u001b[0;31m             return VerboseTB.structured_traceback(\n\u001b[0m\u001b[1;32m   1268\u001b[0m                 \u001b[0mself\u001b[0m\u001b[0;34m,\u001b[0m \u001b[0metype\u001b[0m\u001b[0;34m,\u001b[0m \u001b[0mvalue\u001b[0m\u001b[0;34m,\u001b[0m \u001b[0mtb\u001b[0m\u001b[0;34m,\u001b[0m \u001b[0mtb_offset\u001b[0m\u001b[0;34m,\u001b[0m \u001b[0mnumber_of_lines_of_context\u001b[0m\u001b[0;34m\u001b[0m\u001b[0;34m\u001b[0m\u001b[0m\n\u001b[1;32m   1269\u001b[0m             )\n",
            "\u001b[0;32m/usr/local/lib/python3.12/dist-packages/IPython/core/ultratb.py\u001b[0m in \u001b[0;36mstructured_traceback\u001b[0;34m(self, etype, evalue, etb, tb_offset, number_of_lines_of_context)\u001b[0m\n\u001b[1;32m   1122\u001b[0m         \u001b[0;34m\"\"\"Return a nice text document describing the traceback.\"\"\"\u001b[0m\u001b[0;34m\u001b[0m\u001b[0;34m\u001b[0m\u001b[0m\n\u001b[1;32m   1123\u001b[0m \u001b[0;34m\u001b[0m\u001b[0m\n\u001b[0;32m-> 1124\u001b[0;31m         formatted_exception = self.format_exception_as_a_whole(etype, evalue, etb, number_of_lines_of_context,\n\u001b[0m\u001b[1;32m   1125\u001b[0m                                                                tb_offset)\n\u001b[1;32m   1126\u001b[0m \u001b[0;34m\u001b[0m\u001b[0m\n",
            "\u001b[0;32m/usr/local/lib/python3.12/dist-packages/IPython/core/ultratb.py\u001b[0m in \u001b[0;36mformat_exception_as_a_whole\u001b[0;34m(self, etype, evalue, etb, number_of_lines_of_context, tb_offset)\u001b[0m\n\u001b[1;32m   1080\u001b[0m \u001b[0;34m\u001b[0m\u001b[0m\n\u001b[1;32m   1081\u001b[0m \u001b[0;34m\u001b[0m\u001b[0m\n\u001b[0;32m-> 1082\u001b[0;31m         \u001b[0mlast_unique\u001b[0m\u001b[0;34m,\u001b[0m \u001b[0mrecursion_repeat\u001b[0m \u001b[0;34m=\u001b[0m \u001b[0mfind_recursion\u001b[0m\u001b[0;34m(\u001b[0m\u001b[0morig_etype\u001b[0m\u001b[0;34m,\u001b[0m \u001b[0mevalue\u001b[0m\u001b[0;34m,\u001b[0m \u001b[0mrecords\u001b[0m\u001b[0;34m)\u001b[0m\u001b[0;34m\u001b[0m\u001b[0;34m\u001b[0m\u001b[0m\n\u001b[0m\u001b[1;32m   1083\u001b[0m \u001b[0;34m\u001b[0m\u001b[0m\n\u001b[1;32m   1084\u001b[0m         \u001b[0mframes\u001b[0m \u001b[0;34m=\u001b[0m \u001b[0mself\u001b[0m\u001b[0;34m.\u001b[0m\u001b[0mformat_records\u001b[0m\u001b[0;34m(\u001b[0m\u001b[0mrecords\u001b[0m\u001b[0;34m,\u001b[0m \u001b[0mlast_unique\u001b[0m\u001b[0;34m,\u001b[0m \u001b[0mrecursion_repeat\u001b[0m\u001b[0;34m)\u001b[0m\u001b[0;34m\u001b[0m\u001b[0;34m\u001b[0m\u001b[0m\n",
            "\u001b[0;32m/usr/local/lib/python3.12/dist-packages/IPython/core/ultratb.py\u001b[0m in \u001b[0;36mfind_recursion\u001b[0;34m(etype, value, records)\u001b[0m\n\u001b[1;32m    380\u001b[0m     \u001b[0;31m# first frame (from in to out) that looks different.\u001b[0m\u001b[0;34m\u001b[0m\u001b[0;34m\u001b[0m\u001b[0m\n\u001b[1;32m    381\u001b[0m     \u001b[0;32mif\u001b[0m \u001b[0;32mnot\u001b[0m \u001b[0mis_recursion_error\u001b[0m\u001b[0;34m(\u001b[0m\u001b[0metype\u001b[0m\u001b[0;34m,\u001b[0m \u001b[0mvalue\u001b[0m\u001b[0;34m,\u001b[0m \u001b[0mrecords\u001b[0m\u001b[0;34m)\u001b[0m\u001b[0;34m:\u001b[0m\u001b[0;34m\u001b[0m\u001b[0;34m\u001b[0m\u001b[0m\n\u001b[0;32m--> 382\u001b[0;31m         \u001b[0;32mreturn\u001b[0m \u001b[0mlen\u001b[0m\u001b[0;34m(\u001b[0m\u001b[0mrecords\u001b[0m\u001b[0;34m)\u001b[0m\u001b[0;34m,\u001b[0m \u001b[0;36m0\u001b[0m\u001b[0;34m\u001b[0m\u001b[0;34m\u001b[0m\u001b[0m\n\u001b[0m\u001b[1;32m    383\u001b[0m \u001b[0;34m\u001b[0m\u001b[0m\n\u001b[1;32m    384\u001b[0m     \u001b[0;31m# Select filename, lineno, func_name to track frames with\u001b[0m\u001b[0;34m\u001b[0m\u001b[0;34m\u001b[0m\u001b[0m\n",
            "\u001b[0;31mTypeError\u001b[0m: object of type 'NoneType' has no len()"
          ]
        }
      ]
    },
    {
      "cell_type": "code",
      "source": [
        "#29\n",
        "class Stack:\n",
        "    def __init__(self):\n",
        "        self.items = []  # Use a list to store stack elements\n",
        "\n",
        "    def push(self, item):\n",
        "        self.items.append(item)  # Add item to the top of the stack\n",
        "        print(f\"Pushed {item} onto the stack.\")\n",
        "\n",
        "    def pop(self):\n",
        "        if not self.is_empty():\n",
        "            removed_item = self.items.pop()  # Remove and return the top item\n",
        "            print(f\"Popped {removed_item} from the stack.\")\n",
        "            return removed_item\n",
        "        else:\n",
        "            print(\"Stack is empty! Nothing to pop.\")\n",
        "            return None\n",
        "\n",
        "    def peek(self):\n",
        "        if not self.is_empty():\n",
        "            return self.items[-1]\n",
        "        else:\n",
        "            print(\"Stack is empty!\")\n",
        "            return None\n",
        "\n",
        "    def is_empty(self):\n",
        "        return len(self.items) == 0\n",
        "    def size(self):\n",
        "        return len(self.items)\n",
        "stack = Stack()\n",
        "stack.push(10)\n",
        "stack.push(20)\n",
        "stack.push(30)\n",
        "\n",
        "print(\"Top item is:\", stack.peek())\n",
        "stack.pop()\n",
        "print(\"Stack size is:\",stack.size())\n"
      ],
      "metadata": {
        "colab": {
          "base_uri": "https://localhost:8080/"
        },
        "id": "VKZMHvQaflRB",
        "outputId": "9e31d0cd-8085-4998-f5b0-62c59388d761"
      },
      "execution_count": 3,
      "outputs": [
        {
          "output_type": "stream",
          "name": "stdout",
          "text": [
            "Pushed 10 onto the stack.\n",
            "Pushed 20 onto the stack.\n",
            "Pushed 30 onto the stack.\n",
            "Top item is: 30\n",
            "Popped 30 from the stack.\n",
            "Stack size is: 2\n"
          ]
        }
      ]
    },
    {
      "cell_type": "code",
      "source": [
        "#30 Implement a queue using collections.deque.\n",
        "class Stack:\n",
        "    def __init__(self):\n",
        "        self.items = []\n",
        "\n",
        "    def push(self, item):\n",
        "        self.items.append(item)\n",
        "        print(f\"Pushed {item} onto the stack.\")\n",
        "\n",
        "    def pop(self):\n",
        "        if not self.is_empty():\n",
        "            removed_item = self.items.pop()\n",
        "            print(f\"Popped {removed_item} from the stack.\")\n",
        "            return removed_item\n",
        "        else:\n",
        "            print(\"Stack is empty! Nothing to pop.\")\n",
        "            return None\n",
        "\n",
        "    def peek(self):\n",
        "        if not self.is_empty():\n",
        "            return self.items[-1]\n",
        "        else:\n",
        "            print(\"Stack is empty!\")\n",
        "            return None\n",
        "\n",
        "    def is_empty(self):\n",
        "        return len(self.items) == 0\n",
        "\n",
        "    def size(self):\n",
        "        return len(self.items)\n",
        "stack = Stack()\n",
        "stack.push(10)\n",
        "stack.push(20)\n",
        "stack.push(30)\n",
        "\n",
        "print(\"Top item is:\", stack.peek())\n",
        "stack.pop()\n",
        "print(\"Stack size is:\",stack.size())\n"
      ],
      "metadata": {
        "id": "sAb8Ms6cgkRQ"
      },
      "execution_count": null,
      "outputs": []
    },
    {
      "cell_type": "code",
      "source": [
        "#31.Write a program to find the most frequent element in a list.\n",
        "from collections import Counter\n",
        "\n",
        "def most_frequent(lst):\n",
        "\n",
        "    count = Counter(lst)\n",
        "\n",
        "    most_common = count.most_common(1)  # Returns a list of tuples [(element, frequency)]\n",
        "\n",
        "    return most_common[0][0]  # Return the element itself\n",
        "\n",
        "numbers = [1, 3, 2, 3, 4, 3, 5, 1, 3, 2]\n",
        "result = most_frequent(numbers)\n",
        "print(\"The most frequent element is:\",result)"
      ],
      "metadata": {
        "id": "iCmh1TqSg7Tr"
      },
      "execution_count": null,
      "outputs": []
    },
    {
      "cell_type": "code",
      "source": [
        "#32. Use list comprehension to create a list of squares of even numbers from 1 to 50\n",
        "# Create a list of squares of even numbers from 1 to 50\n",
        "squares_of_evens = [x**2 for x in range(1, 51) if x % 2 == 0]\n",
        "\n",
        "print(squares_of_evens)"
      ],
      "metadata": {
        "colab": {
          "base_uri": "https://localhost:8080/"
        },
        "id": "be8ZDsoahG9r",
        "outputId": "f856f387-7e9a-4694-b30a-b6d9d0210185"
      },
      "execution_count": 6,
      "outputs": [
        {
          "output_type": "stream",
          "name": "stdout",
          "text": [
            "[4, 16, 36, 64, 100, 144, 196, 256, 324, 400, 484, 576, 676, 784, 900, 1024, 1156, 1296, 1444, 1600, 1764, 1936, 2116, 2304, 2500]\n"
          ]
        }
      ]
    },
    {
      "cell_type": "code",
      "source": [
        "#33. Read a CSV file and print the rows (use csv module).\n",
        "import csv\n",
        "\n",
        "filename = 'data.csv'\n",
        "with open(filename, newline='') as csvfile:\n",
        "    reader = csv.reader(csvfile)\n",
        "    for row in reader:\n",
        "        print(row)"
      ],
      "metadata": {
        "colab": {
          "base_uri": "https://localhost:8080/",
          "height": 210
        },
        "id": "jT5DNG1whLSC",
        "outputId": "46e6f110-24a5-489b-c618-c925ce3d2b6a"
      },
      "execution_count": 7,
      "outputs": [
        {
          "output_type": "error",
          "ename": "FileNotFoundError",
          "evalue": "[Errno 2] No such file or directory: 'data.csv'",
          "traceback": [
            "\u001b[0;31m---------------------------------------------------------------------------\u001b[0m",
            "\u001b[0;31mFileNotFoundError\u001b[0m                         Traceback (most recent call last)",
            "\u001b[0;32m/tmp/ipython-input-2057322588.py\u001b[0m in \u001b[0;36m<cell line: 0>\u001b[0;34m()\u001b[0m\n\u001b[1;32m      3\u001b[0m \u001b[0;34m\u001b[0m\u001b[0m\n\u001b[1;32m      4\u001b[0m \u001b[0mfilename\u001b[0m \u001b[0;34m=\u001b[0m \u001b[0;34m'data.csv'\u001b[0m\u001b[0;34m\u001b[0m\u001b[0;34m\u001b[0m\u001b[0m\n\u001b[0;32m----> 5\u001b[0;31m \u001b[0;32mwith\u001b[0m \u001b[0mopen\u001b[0m\u001b[0;34m(\u001b[0m\u001b[0mfilename\u001b[0m\u001b[0;34m,\u001b[0m \u001b[0mnewline\u001b[0m\u001b[0;34m=\u001b[0m\u001b[0;34m''\u001b[0m\u001b[0;34m)\u001b[0m \u001b[0;32mas\u001b[0m \u001b[0mcsvfile\u001b[0m\u001b[0;34m:\u001b[0m\u001b[0;34m\u001b[0m\u001b[0;34m\u001b[0m\u001b[0m\n\u001b[0m\u001b[1;32m      6\u001b[0m     \u001b[0mreader\u001b[0m \u001b[0;34m=\u001b[0m \u001b[0mcsv\u001b[0m\u001b[0;34m.\u001b[0m\u001b[0mreader\u001b[0m\u001b[0;34m(\u001b[0m\u001b[0mcsvfile\u001b[0m\u001b[0;34m)\u001b[0m\u001b[0;34m\u001b[0m\u001b[0;34m\u001b[0m\u001b[0m\n\u001b[1;32m      7\u001b[0m     \u001b[0;32mfor\u001b[0m \u001b[0mrow\u001b[0m \u001b[0;32min\u001b[0m \u001b[0mreader\u001b[0m\u001b[0;34m:\u001b[0m\u001b[0;34m\u001b[0m\u001b[0;34m\u001b[0m\u001b[0m\n",
            "\u001b[0;31mFileNotFoundError\u001b[0m: [Errno 2] No such file or directory: 'data.csv'"
          ]
        }
      ]
    },
    {
      "cell_type": "code",
      "source": [
        "#35. Write a function that returns the longest word in a sentence.\n",
        "def longest_word(sentence):\n",
        "    words = sentence.split()\n",
        "    longest = \"\"\n",
        "\n",
        "    for word in words:\n",
        "        if len(word) > len(longest):\n",
        "            longest = word\n",
        "\n",
        "    return longest\n",
        "\n",
        "# Example usage\n",
        "sentence = \"Python programming is both fun and educational\"\n",
        "result = longest_word(sentence)\n",
        "print(\"The longest word is:\",result)\n"
      ],
      "metadata": {
        "id": "VIJ7FI00iOY4"
      },
      "execution_count": null,
      "outputs": []
    },
    {
      "cell_type": "code",
      "source": [
        "#36.Create a decorator that logs function execution time.(logs means collecting)\n",
        "import time\n",
        "\n",
        "def execution_time_logger(func):\n",
        "    def wrapper(*args, **kwargs):\n",
        "        start_time = time.time()\n",
        "        result = func(*args, **kwargs)\n",
        "        end_time = time.time()\n",
        "        elapsed_time = end_time - start_time\n",
        "        print(f\"Function '{func.__name__}' executed in {elapsed_time:.4f} seconds.\")\n",
        "        return result\n",
        "    return wrapper\n",
        "\n",
        "\n",
        "@execution_time_logger # its an function tool\n",
        "def sample_function():\n",
        "    print(\"Running some task...\")\n",
        "    time.sleep(2)\n",
        "\n",
        "sample_function()\n"
      ],
      "metadata": {
        "colab": {
          "base_uri": "https://localhost:8080/"
        },
        "id": "Evd8wF_aif4m",
        "outputId": "91f3ef60-1e4f-4a8d-db02-14ff996eb61c"
      },
      "execution_count": 8,
      "outputs": [
        {
          "output_type": "stream",
          "name": "stdout",
          "text": [
            "Running some task...\n",
            "Function 'sample_function' executed in 2.0002 seconds.\n"
          ]
        }
      ]
    },
    {
      "cell_type": "code",
      "source": [
        "#37.Write a program to convert a string to title case without using .title().\n",
        "def to_title_case(sentence):\n",
        "    words = sentence.split()\n",
        "    title_case_words = []\n",
        "\n",
        "    for word in words:\n",
        "        # Capitalize the first letter and keep the rest as is\n",
        "        title_word = word[0].upper() + word[1:].lower() if word else ''\n",
        "        title_case_words.append(title_word)\n",
        "\n",
        "    # Join the words back into a sentence\n",
        "    return ' '.join(title_case_words)\n",
        "\n",
        "# Example usage\n",
        "sentence = \"python programming is fun and educational\"\n",
        "result = to_title_case(sentence)\n",
        "print(\"Title Case:\",result)\n"
      ],
      "metadata": {
        "id": "zUyDQflWiu4Z"
      },
      "execution_count": null,
      "outputs": []
    },
    {
      "cell_type": "code",
      "source": [
        "#38.Implement a binary search algorithm.\n",
        "def binary_search(arr, target):\n",
        "    left = 0\n",
        "    right = len(arr) - 1  # Set initial boundaries\n",
        "\n",
        "    while left <= right:\n",
        "        mid = (left + right) // 2  # Find the middle index\n",
        "        if arr[mid] == target:\n",
        "            return mid  # Target found, return its index\n",
        "        elif arr[mid] < target:\n",
        "            left = mid + 1  # Search in the right half\n",
        "        else:\n",
        "            right = mid - 1  # Search in the left half\n",
        "\n",
        "    return -1  # Target not found\n",
        "\n",
        "# Example usage\n",
        "sorted_list = [1, 3, 5, 7, 9, 11, 13, 15]\n",
        "target_value = 7\n",
        "\n",
        "result = binary_search(sorted_list, target_value)\n",
        "\n",
        "if result != -1:\n",
        "    print(f\"Element {target_value} found at index {result}.\")\n",
        "else:\n",
        "    print(f\"Element {target_value} not found in the list.\")\n"
      ],
      "metadata": {
        "colab": {
          "base_uri": "https://localhost:8080/"
        },
        "id": "s4UZBDyMi3cT",
        "outputId": "2a25ac4f-41ba-4042-d639-ac72d3965444"
      },
      "execution_count": 9,
      "outputs": [
        {
          "output_type": "stream",
          "name": "stdout",
          "text": [
            "Element 7 found at index 3.\n"
          ]
        }
      ]
    },
    {
      "cell_type": "code",
      "source": [
        "#39. Count the occurrences of each word in a paragraph.\n",
        "def count_words(paragraph):\n",
        "    # Convert paragraph to lowercase to count words case-insensitively\n",
        "    paragraph = paragraph.lower()\n",
        "\n",
        "    # Replace punctuation with spaces (basic handling)\n",
        "    for char in \",.!?;:\":\n",
        "        paragraph = paragraph.replace(char, \" \")\n",
        "\n",
        "    words = paragraph.split()  # Split into words\n",
        "\n",
        "    word_count = {}  # Dictionary to store word counts\n",
        "\n",
        "    for word in words:\n",
        "        if word in word_count:\n",
        "            word_count[word] += 1  # Increment count if word exists\n",
        "        else:\n",
        "            word_count[word] = 1   # Initialize count if new word\n",
        "\n",
        "    return word_count\n",
        "\n",
        "# Example usage\n",
        "paragraph = \"Python is great. Python is easy to learn, and Python is fun!\"\n",
        "result = count_words(paragraph)\n",
        "\n",
        "print(\"Word occurrences:\")\n",
        "for word, count in result.items():\n",
        "    print(f\"{word}:{count}\")\n"
      ],
      "metadata": {
        "id": "BwzELiCgi5p7"
      },
      "execution_count": null,
      "outputs": []
    },
    {
      "cell_type": "code",
      "source": [
        "#40. Write a program to calculate the area of different shapes using inheritance\n",
        "# Base class for shapes\n",
        "class Shape:\n",
        "    def area(self):\n",
        "        return 0\n",
        "\n",
        "# Derived class for Rectangle\n",
        "class Rectangle(Shape):\n",
        "    def __init__(self, width, height):\n",
        "        self.width = width\n",
        "        self.height = height\n",
        "\n",
        "    def area(self):\n",
        "        return self.width * self.height\n",
        "\n",
        "# Derived class for Circle\n",
        "class Circle(Shape):\n",
        "    def __init__(self, radius):\n",
        "        self.radius = radius\n",
        "\n",
        "    def area(self):\n",
        "        return 3.14 * self.radius * self.radius\n",
        "\n",
        "# Example usage\n",
        "rectangle = Rectangle(5, 10)\n",
        "circle = Circle(7)\n",
        "\n",
        "print(\"Area of rectangle:\", rectangle.area())\n",
        "print(\"Area of circle:\",circle.area())\n"
      ],
      "metadata": {
        "colab": {
          "base_uri": "https://localhost:8080/"
        },
        "id": "0rh_jWcui-gk",
        "outputId": "e1007de7-9d9e-4ce4-bd17-422650830e8d"
      },
      "execution_count": 10,
      "outputs": [
        {
          "output_type": "stream",
          "name": "stdout",
          "text": [
            "Area of rectangle: 50\n",
            "Area of circle: 153.86\n"
          ]
        }
      ]
    },
    {
      "cell_type": "code",
      "source": [
        "#41. Write a Python program to solve the Tower of Hanoi problem.\n",
        "\n",
        "def hanoi(n, source, target, auxiliary):\n",
        "    if n:\n",
        "        hanoi(n-1, source, auxiliary, target)\n",
        "        print(f\"Move disk {n} from {source} to {target}\")\n",
        "        hanoi(n-1, auxiliary, target, source)\n",
        "\n",
        "hanoi(3,'A','C','B')"
      ],
      "metadata": {
        "colab": {
          "base_uri": "https://localhost:8080/"
        },
        "id": "xmVINL6YzyY3",
        "outputId": "c90836e1-f892-4d44-b1ea-8a046f285034"
      },
      "execution_count": 11,
      "outputs": [
        {
          "output_type": "stream",
          "name": "stdout",
          "text": [
            "Move disk 1 from A to C\n",
            "Move disk 2 from A to B\n",
            "Move disk 1 from C to B\n",
            "Move disk 3 from A to C\n",
            "Move disk 1 from B to A\n",
            "Move disk 2 from B to C\n",
            "Move disk 1 from A to C\n"
          ]
        }
      ]
    },
    {
      "cell_type": "code",
      "source": [
        "#42. Implement a simple web scraper using requests and BeautifulSoup.\n",
        "\n",
        "# First, install the required libraries by running this in the terminal:\n",
        "# pip install requests beautifulsoup4\n",
        "\n",
        "import requests\n",
        "from bs4 import BeautifulSoup\n",
        "\n",
        "# URL of the website to scrape\n",
        "url = 'https://google.com'\n",
        "\n",
        "# Send a GET request to fetch the HTML content\n",
        "response = requests.get(url)\n",
        "\n",
        "# Parse the HTML using BeautifulSoup\n",
        "soup = BeautifulSoup(response.text, 'html.parser')\n",
        "\n",
        "# Print the title of the webpage\n",
        "print(\"Title of the page:\", soup.title.text)"
      ],
      "metadata": {
        "colab": {
          "base_uri": "https://localhost:8080/"
        },
        "id": "qUCgSqfaz4V3",
        "outputId": "6b3773dc-23e3-4020-e734-adb8facdc953"
      },
      "execution_count": 13,
      "outputs": [
        {
          "output_type": "stream",
          "name": "stdout",
          "text": [
            "Title of the page: Google\n"
          ]
        }
      ]
    },
    {
      "cell_type": "code",
      "source": [
        "#43. Build a recursive function to generate all permutations of a string.\n",
        "\n",
        "def permute(s, answer=\"\"):\n",
        "    if not s:\n",
        "        print(answer)\n",
        "    else:\n",
        "        for i in range(len(s)):\n",
        "            permute(s[:i] + s[i+1:], answer + s[i])\n",
        "\n",
        "permute(\"abc\")"
      ],
      "metadata": {
        "id": "3yEIsZ0v0Bvl"
      },
      "execution_count": null,
      "outputs": []
    },
    {
      "cell_type": "code",
      "source": [
        "#44. Write a program to find the shortest path in a graph using Dijkstra’s algorithm.\n",
        "\n",
        "import heapq\n",
        "\n",
        "def dijkstra(graph, start):\n",
        "    pq = [(0, start)]  # priority queue: (distance, node)\n",
        "    distances = {node: float('inf') for node in graph}\n",
        "    distances[start] = 0\n",
        "\n",
        "    while pq:\n",
        "        current_distance, current_node = heapq.heappop(pq)\n",
        "\n",
        "        if current_distance > distances[current_node]:\n",
        "            continue\n",
        "\n",
        "        for neighbor, weight in graph[current_node].items():\n",
        "            distance = current_distance + weight\n",
        "            if distance < distances[neighbor]:\n",
        "                distances[neighbor] = distance\n",
        "                heapq.heappush(pq, (distance, neighbor))\n",
        "\n",
        "    return distances\n",
        "\n",
        "# Example graph\n",
        "graph = {\n",
        "    'A': {'B': 1, 'C': 4},\n",
        "    'B': {'A': 1, 'C': 2, 'D': 5},\n",
        "    'C': {'A': 4, 'B': 2, 'D': 1},\n",
        "    'D': {'B': 5, 'C': 1}\n",
        "}\n",
        "\n",
        "start_node = 'A'\n",
        "shortest_paths = dijkstra(graph, start_node)\n",
        "print(shortest_paths)\n"
      ],
      "metadata": {
        "id": "xGMtMbN60KVn"
      },
      "execution_count": null,
      "outputs": []
    },
    {
      "cell_type": "code",
      "source": [
        "#45. Create a generator function that yields prime numbers.\n",
        "\n",
        "def primes():\n",
        "    n = 2\n",
        "    while True:\n",
        "        for i in range(2, int(n**0.5)+1):\n",
        "            if n % i == 0:\n",
        "                break\n",
        "        else:\n",
        "            yield n\n",
        "        n += 1\n",
        "\n",
        "# Example: print first 10 primes\n",
        "gen = primes()\n",
        "for _ in range(10):\n",
        "    print(next(gen))"
      ],
      "metadata": {
        "colab": {
          "base_uri": "https://localhost:8080/"
        },
        "id": "huhV8TL80Pr0",
        "outputId": "10a627ee-b728-4657-b63e-8da0731b9427"
      },
      "execution_count": 14,
      "outputs": [
        {
          "output_type": "stream",
          "name": "stdout",
          "text": [
            "2\n",
            "3\n",
            "5\n",
            "7\n",
            "11\n",
            "13\n",
            "17\n",
            "19\n",
            "23\n",
            "29\n"
          ]
        }
      ]
    },
    {
      "cell_type": "code",
      "source": [
        "#46. Use regular expressions to validate an email address.\n",
        "\n",
        "import re #re stands for regects\n",
        "\n",
        "def is_valid_email(email):\n",
        "    pattern = r'^[\\w\\.-]+@[\\w\\.-]+\\.\\w+$'\n",
        "    return bool(re.match(pattern, email))\n",
        "\n",
        "# Example usage\n",
        "emails = [\"test@example.com\", \"invalid-email@\", \"user.name@mail.co\"]\n",
        "for e in emails:\n",
        "    print(e, \"->\", is_valid_email(e))"
      ],
      "metadata": {
        "colab": {
          "base_uri": "https://localhost:8080/"
        },
        "id": "QSifQ44C06yD",
        "outputId": "0fd3c81c-9f82-4114-a06b-36bc48408f0b"
      },
      "execution_count": 15,
      "outputs": [
        {
          "output_type": "stream",
          "name": "stdout",
          "text": [
            "test@example.com -> True\n",
            "invalid-email@ -> False\n",
            "user.name@mail.co -> True\n"
          ]
        }
      ]
    },
    {
      "cell_type": "code",
      "source": [
        "#47. Build a basic API using Flask that returns JSON response.\n",
        "\n",
        "from flask import Flask, jsonify, request #flask is used to build back end\n",
        "\n",
        "app = Flask(__name__)\n",
        "\n",
        "# Static JSON response\n",
        "@app.route('/api')\n",
        "def hello():\n",
        "    return jsonify({\"message\": \"Hello, World!\"})\n",
        "\n",
        "# Dynamic JSON response with a query parameter\n",
        "@app.route('/api/greet')\n",
        "def greet():\n",
        "    name = request.args.get('name', 'Guest')\n",
        "    return jsonify({\"message\": f\"Hello, {name}!\"})\n",
        "\n",
        "if __name__ == '_main_':\n",
        "    app.run(debug=True)\n"
      ],
      "metadata": {
        "id": "5XWOHi5M04To"
      },
      "execution_count": 19,
      "outputs": []
    },
    {
      "cell_type": "code",
      "source": [
        "#48. Write a program to parse a JSON file and extract specific\n",
        "\n",
        "import json\n",
        "\n",
        "# Load JSON data from a file\n",
        "with open('data.json') as f:\n",
        "    data = json.load(f)\n",
        "\n",
        "# Extract specific data\n",
        "# Example: get all names from a list of users\n",
        "for user in data['users']:\n",
        "    print(user['name'])"
      ],
      "metadata": {
        "id": "4kJOOpI41NXB"
      },
      "execution_count": null,
      "outputs": []
    },
    {
      "cell_type": "code",
      "source": [
        "#49. Implement a caching mechanism using functools.lru_cache.\n",
        "\n",
        "from functools import lru_cache # lru_cache is caching library to cache\n",
        "\n",
        "@lru_cache(maxsize=5)  # Cache up to 5 results\n",
        "def fibonacci(n):\n",
        "    if n < 2:\n",
        "        return n\n",
        "    return fibonacci(n-1) + fibonacci(n-2)\n",
        "\n",
        "# Example usage\n",
        "for i in range(10):\n",
        "    print(fibonacci(i))"
      ],
      "metadata": {
        "colab": {
          "base_uri": "https://localhost:8080/"
        },
        "id": "6TYVSen41PDQ",
        "outputId": "4fea9995-a4a2-4f0c-fc6b-539c4ce58107"
      },
      "execution_count": 20,
      "outputs": [
        {
          "output_type": "stream",
          "name": "stdout",
          "text": [
            "0\n",
            "1\n",
            "1\n",
            "2\n",
            "3\n",
            "5\n",
            "8\n",
            "13\n",
            "21\n",
            "34\n"
          ]
        }
      ]
    },
    {
      "cell_type": "code",
      "source": [
        "#50. Build a command-line todo app that stores data in a JSON file.\n",
        "\n",
        "import json, os\n",
        "\n",
        "FILE = 'todo.json'\n",
        "\n",
        "# Load existing todos\n",
        "todos = json.load(open(FILE)) if os.path.exists(FILE) else []\n",
        "\n",
        "while True:\n",
        "    cmd = input(\"Add/View/Exit: \").lower()\n",
        "    if cmd == \"add\":\n",
        "        task = input(\"Enter task: \")\n",
        "        todos.append(task)\n",
        "        json.dump(todos, open(FILE, 'w'))\n",
        "    elif cmd == \"view\":\n",
        "        for i, t in enumerate(todos, 1):# enumerate is builtin function for viewing data from the file(here i,t are the variables)\n",
        "            print(f\"{i}. {t}\")\n",
        "    elif cmd == \"exit\":\n",
        "        break\n",
        "    else:\n",
        "        print(\"Invalid command\")"
      ],
      "metadata": {
        "colab": {
          "base_uri": "https://localhost:8080/"
        },
        "id": "cQXdO3sq1bAX",
        "outputId": "6874998b-0a2d-4c73-d4aa-371d8e260db9"
      },
      "execution_count": 21,
      "outputs": [
        {
          "name": "stdout",
          "output_type": "stream",
          "text": [
            "Add/View/Exit: vishwa\n",
            "Invalid command\n",
            "Add/View/Exit: add\n",
            "Enter task: vishwa\n",
            "Add/View/Exit: view\n",
            "1. vishwa\n",
            "Add/View/Exit: exit\n"
          ]
        }
      ]
    }
  ],
  "metadata": {
    "colab": {
      "provenance": []
    },
    "kernelspec": {
      "display_name": "Python 3",
      "name": "python3"
    },
    "language_info": {
      "name": "python"
    }
  },
  "nbformat": 4,
  "nbformat_minor": 0
}